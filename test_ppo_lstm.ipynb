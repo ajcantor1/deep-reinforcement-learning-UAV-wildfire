{
 "cells": [
  {
   "cell_type": "code",
   "execution_count": 1,
   "metadata": {},
   "outputs": [
    {
     "name": "stdout",
     "output_type": "stream",
     "text": [
      "Requirement already satisfied: svgpath2mpl in /usr/local/lib/python3.9/dist-packages (1.0.0)\n",
      "Requirement already satisfied: matplotlib in /usr/local/lib/python3.9/dist-packages (from svgpath2mpl) (3.5.2)\n",
      "Requirement already satisfied: numpy in /usr/local/lib/python3.9/dist-packages (from svgpath2mpl) (1.23.1)\n",
      "Requirement already satisfied: pillow>=6.2.0 in /usr/local/lib/python3.9/dist-packages (from matplotlib->svgpath2mpl) (9.2.0)\n",
      "Requirement already satisfied: pyparsing>=2.2.1 in /usr/local/lib/python3.9/dist-packages (from matplotlib->svgpath2mpl) (3.0.9)\n",
      "Requirement already satisfied: python-dateutil>=2.7 in /usr/local/lib/python3.9/dist-packages (from matplotlib->svgpath2mpl) (2.8.2)\n",
      "Requirement already satisfied: cycler>=0.10 in /usr/local/lib/python3.9/dist-packages (from matplotlib->svgpath2mpl) (0.11.0)\n",
      "Requirement already satisfied: packaging>=20.0 in /usr/local/lib/python3.9/dist-packages (from matplotlib->svgpath2mpl) (21.3)\n",
      "Requirement already satisfied: fonttools>=4.22.0 in /usr/local/lib/python3.9/dist-packages (from matplotlib->svgpath2mpl) (4.34.4)\n",
      "Requirement already satisfied: kiwisolver>=1.0.1 in /usr/local/lib/python3.9/dist-packages (from matplotlib->svgpath2mpl) (1.4.3)\n",
      "Requirement already satisfied: six>=1.5 in /usr/lib/python3/dist-packages (from python-dateutil>=2.7->matplotlib->svgpath2mpl) (1.14.0)\n",
      "\u001b[33mWARNING: Running pip as the 'root' user can result in broken permissions and conflicting behaviour with the system package manager. It is recommended to use a virtual environment instead: https://pip.pypa.io/warnings/venv\u001b[0m\u001b[33m\n",
      "\u001b[0mRequirement already satisfied: gym in /usr/local/lib/python3.9/dist-packages (0.26.2)\n",
      "Requirement already satisfied: numpy>=1.18.0 in /usr/local/lib/python3.9/dist-packages (from gym) (1.23.1)\n",
      "Requirement already satisfied: cloudpickle>=1.2.0 in /usr/local/lib/python3.9/dist-packages (from gym) (2.1.0)\n",
      "Requirement already satisfied: importlib-metadata>=4.8.0 in /usr/local/lib/python3.9/dist-packages (from gym) (4.12.0)\n",
      "Requirement already satisfied: gym-notices>=0.0.4 in /usr/local/lib/python3.9/dist-packages (from gym) (0.0.8)\n",
      "Requirement already satisfied: zipp>=0.5 in /usr/local/lib/python3.9/dist-packages (from importlib-metadata>=4.8.0->gym) (3.8.1)\n",
      "\u001b[33mWARNING: Running pip as the 'root' user can result in broken permissions and conflicting behaviour with the system package manager. It is recommended to use a virtual environment instead: https://pip.pypa.io/warnings/venv\u001b[0m\u001b[33m\n",
      "\u001b[0m"
     ]
    }
   ],
   "source": [
    "!pip install svgpath2mpl\n",
    "!pip install gym"
   ]
  },
  {
   "cell_type": "code",
   "execution_count": 2,
   "metadata": {},
   "outputs": [],
   "source": [
    "from collections import namedtuple\n",
    "import numpy as np\n",
    "import torch\n",
    "import torch.nn as nn\n",
    "import imageio\n",
    "from svgpath2mpl import parse_path\n",
    "import matplotlib.pyplot as plt\n",
    "import matplotlib\n",
    "from scipy.ndimage import rotate, shift\n",
    "from matplotlib.animation import FuncAnimation\n",
    "from environments.wildfire_gym import WildFireGym\n",
    "from networks.lstm_ppo_net import LSTMPPONet\n",
    "import torch.nn.functional as F"
   ]
  },
  {
   "cell_type": "code",
   "execution_count": 3,
   "metadata": {},
   "outputs": [],
   "source": [
    "\n",
    "n_actions = 2\n",
    "height = width = 100\n",
    "channels = 2\n",
    "EPISODES_PER_BATCH = 1\n",
    "TRAIN_FREQ  = 10\n",
    "SAVE_FREQ = 10\n",
    "GAMMA = 0.95\n",
    "CLIP  = 0.2\n",
    "N_DRONES = 2"
   ]
  },
  {
   "cell_type": "code",
   "execution_count": 4,
   "metadata": {},
   "outputs": [
    {
     "data": {
      "text/plain": [
       "LSTMPPONet(\n",
       "  (fc1): Sequential(\n",
       "    (0): Linear(in_features=5, out_features=50, bias=True)\n",
       "    (1): ReLU()\n",
       "    (2): Linear(in_features=50, out_features=50, bias=True)\n",
       "    (3): ReLU()\n",
       "    (4): Linear(in_features=50, out_features=50, bias=True)\n",
       "    (5): ReLU()\n",
       "    (6): Linear(in_features=50, out_features=50, bias=True)\n",
       "    (7): ReLU()\n",
       "    (8): Linear(in_features=50, out_features=50, bias=True)\n",
       "    (9): ReLU()\n",
       "  )\n",
       "  (conv): Sequential(\n",
       "    (0): Conv2d(2, 64, kernel_size=(3, 3), stride=(1, 1))\n",
       "    (1): ReLU()\n",
       "    (2): MaxPool2d(kernel_size=2, stride=2, padding=0, dilation=1, ceil_mode=False)\n",
       "    (3): Conv2d(64, 64, kernel_size=(3, 3), stride=(1, 1))\n",
       "    (4): ReLU()\n",
       "    (5): Conv2d(64, 64, kernel_size=(3, 3), stride=(1, 1))\n",
       "    (6): ReLU()\n",
       "    (7): MaxPool2d(kernel_size=2, stride=2, padding=0, dilation=1, ceil_mode=False)\n",
       "  )\n",
       "  (fc2): Sequential(\n",
       "    (0): Linear(in_features=30976, out_features=500, bias=True)\n",
       "    (1): ReLU()\n",
       "    (2): Linear(in_features=500, out_features=100, bias=True)\n",
       "    (3): ReLU()\n",
       "  )\n",
       "  (fc3): Sequential(\n",
       "    (0): Linear(in_features=150, out_features=256, bias=True)\n",
       "    (1): ReLU()\n",
       "  )\n",
       "  (actor): Linear(in_features=256, out_features=2, bias=True)\n",
       "  (critic): Linear(in_features=256, out_features=1, bias=True)\n",
       "  (lstm): LSTM(256, 256, batch_first=True)\n",
       ")"
      ]
     },
     "execution_count": 4,
     "metadata": {},
     "output_type": "execute_result"
    }
   ],
   "source": [
    "device = torch.device(\"cuda\" if torch.cuda.is_available() else \"cpu\")\n",
    "model = LSTMPPONet(device,  channels, height, width, n_actions).to(device)\n",
    "model.load_state_dict(torch.load('ppo_weights.pt'))\n",
    "model.eval()"
   ]
  },
  {
   "cell_type": "code",
   "execution_count": 5,
   "metadata": {},
   "outputs": [
    {
     "ename": "TypeError",
     "evalue": "reset() takes from 1 to 2 positional arguments but 3 were given",
     "output_type": "error",
     "traceback": [
      "\u001b[0;31m---------------------------------------------------------------------------\u001b[0m",
      "\u001b[0;31mTypeError\u001b[0m                                 Traceback (most recent call last)",
      "\u001b[1;32m/home/jeremy/Desktop/projects/notebooks/Distributed Wildfire Surveillance/test_ppo_lstm.ipynb Cell 5\u001b[0m in \u001b[0;36m<cell line: 5>\u001b[0;34m()\u001b[0m\n\u001b[1;32m      <a href='vscode-notebook-cell:/home/jeremy/Desktop/projects/notebooks/Distributed%20Wildfire%20Surveillance/test_ppo_lstm.ipynb#X12sZmlsZQ%3D%3D?line=2'>3</a>\u001b[0m images \u001b[39m=\u001b[39m []\n\u001b[1;32m      <a href='vscode-notebook-cell:/home/jeremy/Desktop/projects/notebooks/Distributed%20Wildfire%20Surveillance/test_ppo_lstm.ipynb#X12sZmlsZQ%3D%3D?line=3'>4</a>\u001b[0m steps \u001b[39m=\u001b[39m \u001b[39m0\u001b[39m\n\u001b[0;32m----> <a href='vscode-notebook-cell:/home/jeremy/Desktop/projects/notebooks/Distributed%20Wildfire%20Surveillance/test_ppo_lstm.ipynb#X12sZmlsZQ%3D%3D?line=4'>5</a>\u001b[0m wildFireGym \u001b[39m=\u001b[39m WildFireGym()\n\u001b[1;32m      <a href='vscode-notebook-cell:/home/jeremy/Desktop/projects/notebooks/Distributed%20Wildfire%20Surveillance/test_ppo_lstm.ipynb#X12sZmlsZQ%3D%3D?line=5'>6</a>\u001b[0m observation \u001b[39m=\u001b[39m wildFireGym\u001b[39m.\u001b[39mreset()\n\u001b[1;32m      <a href='vscode-notebook-cell:/home/jeremy/Desktop/projects/notebooks/Distributed%20Wildfire%20Surveillance/test_ppo_lstm.ipynb#X12sZmlsZQ%3D%3D?line=7'>8</a>\u001b[0m maps \u001b[39m=\u001b[39m [\u001b[39mNone\u001b[39;00m]\u001b[39m*\u001b[39mN_DRONES\n",
      "File \u001b[0;32m/notebooks/environments/wildfire_gym.py:20\u001b[0m, in \u001b[0;36mWildFireGym.__init__\u001b[0;34m(self, _n_agents)\u001b[0m\n\u001b[1;32m     18\u001b[0m \u001b[39mself\u001b[39m\u001b[39m.\u001b[39mdronesEnv \u001b[39m=\u001b[39m DronesEnv(HEIGHT, WIDTH, DT, DTI) \n\u001b[1;32m     19\u001b[0m \u001b[39mself\u001b[39m\u001b[39m.\u001b[39minfo \u001b[39m=\u001b[39m {}\n\u001b[0;32m---> 20\u001b[0m \u001b[39mself\u001b[39;49m\u001b[39m.\u001b[39;49mreset()\n",
      "File \u001b[0;32m/notebooks/environments/wildfire_gym.py:29\u001b[0m, in \u001b[0;36mWildFireGym.reset\u001b[0;34m(self)\u001b[0m\n\u001b[1;32m     27\u001b[0m seed \u001b[39m=\u001b[39m \u001b[39mself\u001b[39m\u001b[39m.\u001b[39mfireEnv\u001b[39m.\u001b[39mreset()\n\u001b[1;32m     28\u001b[0m \u001b[39mself\u001b[39m\u001b[39m.\u001b[39mobservation \u001b[39m=\u001b[39m \u001b[39mself\u001b[39m\u001b[39m.\u001b[39mfireEnv\u001b[39m.\u001b[39mstep()\n\u001b[0;32m---> 29\u001b[0m \u001b[39mself\u001b[39;49m\u001b[39m.\u001b[39;49mdronesEnv\u001b[39m.\u001b[39;49mreset(seed, \u001b[39mself\u001b[39;49m\u001b[39m.\u001b[39;49mobservation)\n\u001b[1;32m     30\u001b[0m \u001b[39mself\u001b[39m\u001b[39m.\u001b[39mtime_steps \u001b[39m=\u001b[39m \u001b[39m0\u001b[39m\n\u001b[1;32m     31\u001b[0m \u001b[39mself\u001b[39m\u001b[39m.\u001b[39mdone \u001b[39m=\u001b[39m \u001b[39mFalse\u001b[39;00m\n",
      "\u001b[0;31mTypeError\u001b[0m: reset() takes from 1 to 2 positional arguments but 3 were given"
     ]
    }
   ],
   "source": [
    "loss = None\n",
    "i_episode = 1\n",
    "images = []\n",
    "steps = 0\n",
    "wildFireGym = WildFireGym()\n",
    "observation = wildFireGym.reset()\n",
    "\n",
    "maps = [None]*N_DRONES\n",
    "state_vectors = [None]*N_DRONES\n",
    "hidden = [None]*N_DRONES\n",
    "\n",
    "while True:\n",
    "  \n",
    "  maps[0] = torch.tensor(observation[0]['belief_map'], device=device, dtype=torch.float)\n",
    "  maps[1] = torch.tensor(observation[1]['belief_map'], device=device, dtype=torch.float)\n",
    "\n",
    "  state_vectors[0] = torch.tensor(observation[0]['state_vector'], device=device, dtype=torch.float)\n",
    "  state_vectors[1] = torch.tensor(observation[1]['state_vector'], device=device, dtype=torch.float)\n",
    "  \n",
    "  logits1, _, hidden[0] = model(maps[0], state_vectors[0], hidden[0])\n",
    "  logits2, _, hidden[1] = model(maps[1], state_vectors[1], hidden[1])\n",
    "  \n",
    "  policy1 = F.softmax(logits1, dim=1)\n",
    "  policy2 = F.softmax(logits2, dim=1)\n",
    "  \n",
    "  next_observation, rewards, done, _ = wildFireGym.step([ torch.argmax(policy1).item(), torch.argmax(policy2).item()])\n",
    "\n",
    "  observation = next_observation\n",
    "\n",
    "  if done:\n",
    "\n",
    "    break\n",
    "\n",
    "  observation = next_observation\n",
    "  steps += 1\n",
    "\n",
    "  if steps % 5 == 0:\n",
    "\n",
    "    fig, ax = plt.subplots(1, 5, figsize=(28, 4))\n",
    "    wildFireGym.render(fig, ax)\n",
    "    fig.canvas.draw() \n",
    "    image = np.frombuffer(fig.canvas.tostring_rgb(), dtype='uint8')\n",
    "    image  = image.reshape(fig.canvas.get_width_height()[::-1] + (3,))\n",
    "    images.append(image)\n",
    "\n",
    "kwargs_write = {'fps':5.0, 'quantizer':'nq'}\n",
    "imageio.mimsave('./ppo_example.gif', images, fps=5)"
   ]
  }
 ],
 "metadata": {
  "kernelspec": {
   "display_name": "Python 3 (ipykernel)",
   "language": "python",
   "name": "python3"
  },
  "language_info": {
   "codemirror_mode": {
    "name": "ipython",
    "version": 3
   },
   "file_extension": ".py",
   "mimetype": "text/x-python",
   "name": "python",
   "nbconvert_exporter": "python",
   "pygments_lexer": "ipython3",
   "version": "3.9.13"
  },
  "orig_nbformat": 4,
  "vscode": {
   "interpreter": {
    "hash": "916dbcbb3f70747c44a77c7bcd40155683ae19c65e1c03b4aa3499c5328201f1"
   }
  }
 },
 "nbformat": 4,
 "nbformat_minor": 2
}
