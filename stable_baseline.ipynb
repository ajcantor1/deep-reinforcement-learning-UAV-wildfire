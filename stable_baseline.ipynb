{
 "cells": [
  {
   "cell_type": "code",
   "execution_count": 1,
   "metadata": {},
   "outputs": [
    {
     "name": "stdout",
     "output_type": "stream",
     "text": [
      "Requirement already satisfied: stable_baselines3 in /usr/local/lib/python3.9/dist-packages (1.6.2)\n",
      "Requirement already satisfied: pandas in /usr/local/lib/python3.9/dist-packages (from stable_baselines3) (1.4.3)\n",
      "Requirement already satisfied: matplotlib in /usr/local/lib/python3.9/dist-packages (from stable_baselines3) (3.5.2)\n",
      "Requirement already satisfied: cloudpickle in /usr/local/lib/python3.9/dist-packages (from stable_baselines3) (2.1.0)\n",
      "Requirement already satisfied: torch>=1.11 in /usr/local/lib/python3.9/dist-packages (from stable_baselines3) (1.12.0+cu116)\n",
      "Requirement already satisfied: numpy in /usr/local/lib/python3.9/dist-packages (from stable_baselines3) (1.23.1)\n",
      "Requirement already satisfied: gym==0.21 in /usr/local/lib/python3.9/dist-packages (from stable_baselines3) (0.21.0)\n",
      "Requirement already satisfied: importlib-metadata~=4.13 in /usr/local/lib/python3.9/dist-packages (from stable_baselines3) (4.13.0)\n",
      "Requirement already satisfied: zipp>=0.5 in /usr/local/lib/python3.9/dist-packages (from importlib-metadata~=4.13->stable_baselines3) (3.8.1)\n",
      "Requirement already satisfied: typing-extensions in /usr/local/lib/python3.9/dist-packages (from torch>=1.11->stable_baselines3) (4.3.0)\n",
      "Requirement already satisfied: fonttools>=4.22.0 in /usr/local/lib/python3.9/dist-packages (from matplotlib->stable_baselines3) (4.34.4)\n",
      "Requirement already satisfied: pyparsing>=2.2.1 in /usr/local/lib/python3.9/dist-packages (from matplotlib->stable_baselines3) (3.0.9)\n",
      "Requirement already satisfied: kiwisolver>=1.0.1 in /usr/local/lib/python3.9/dist-packages (from matplotlib->stable_baselines3) (1.4.3)\n",
      "Requirement already satisfied: packaging>=20.0 in /usr/local/lib/python3.9/dist-packages (from matplotlib->stable_baselines3) (21.3)\n",
      "Requirement already satisfied: pillow>=6.2.0 in /usr/local/lib/python3.9/dist-packages (from matplotlib->stable_baselines3) (9.2.0)\n",
      "Requirement already satisfied: cycler>=0.10 in /usr/local/lib/python3.9/dist-packages (from matplotlib->stable_baselines3) (0.11.0)\n",
      "Requirement already satisfied: python-dateutil>=2.7 in /usr/local/lib/python3.9/dist-packages (from matplotlib->stable_baselines3) (2.8.2)\n",
      "Requirement already satisfied: pytz>=2020.1 in /usr/local/lib/python3.9/dist-packages (from pandas->stable_baselines3) (2022.1)\n",
      "Requirement already satisfied: six>=1.5 in /usr/lib/python3/dist-packages (from python-dateutil>=2.7->matplotlib->stable_baselines3) (1.14.0)\n",
      "\u001b[33mWARNING: Running pip as the 'root' user can result in broken permissions and conflicting behaviour with the system package manager. It is recommended to use a virtual environment instead: https://pip.pypa.io/warnings/venv\u001b[0m\u001b[33m\n",
      "\u001b[0mRequirement already satisfied: svgpath2mpl in /usr/local/lib/python3.9/dist-packages (1.0.0)\n",
      "Requirement already satisfied: matplotlib in /usr/local/lib/python3.9/dist-packages (from svgpath2mpl) (3.5.2)\n",
      "Requirement already satisfied: numpy in /usr/local/lib/python3.9/dist-packages (from svgpath2mpl) (1.23.1)\n",
      "Requirement already satisfied: packaging>=20.0 in /usr/local/lib/python3.9/dist-packages (from matplotlib->svgpath2mpl) (21.3)\n",
      "Requirement already satisfied: python-dateutil>=2.7 in /usr/local/lib/python3.9/dist-packages (from matplotlib->svgpath2mpl) (2.8.2)\n",
      "Requirement already satisfied: pillow>=6.2.0 in /usr/local/lib/python3.9/dist-packages (from matplotlib->svgpath2mpl) (9.2.0)\n",
      "Requirement already satisfied: kiwisolver>=1.0.1 in /usr/local/lib/python3.9/dist-packages (from matplotlib->svgpath2mpl) (1.4.3)\n",
      "Requirement already satisfied: cycler>=0.10 in /usr/local/lib/python3.9/dist-packages (from matplotlib->svgpath2mpl) (0.11.0)\n",
      "Requirement already satisfied: pyparsing>=2.2.1 in /usr/local/lib/python3.9/dist-packages (from matplotlib->svgpath2mpl) (3.0.9)\n",
      "Requirement already satisfied: fonttools>=4.22.0 in /usr/local/lib/python3.9/dist-packages (from matplotlib->svgpath2mpl) (4.34.4)\n",
      "Requirement already satisfied: six>=1.5 in /usr/lib/python3/dist-packages (from python-dateutil>=2.7->matplotlib->svgpath2mpl) (1.14.0)\n",
      "\u001b[33mWARNING: Running pip as the 'root' user can result in broken permissions and conflicting behaviour with the system package manager. It is recommended to use a virtual environment instead: https://pip.pypa.io/warnings/venv\u001b[0m\u001b[33m\n",
      "\u001b[0mRequirement already satisfied: gym in /usr/local/lib/python3.9/dist-packages (0.21.0)\n",
      "Requirement already satisfied: numpy>=1.18.0 in /usr/local/lib/python3.9/dist-packages (from gym) (1.23.1)\n",
      "Requirement already satisfied: cloudpickle>=1.2.0 in /usr/local/lib/python3.9/dist-packages (from gym) (2.1.0)\n",
      "\u001b[33mWARNING: Running pip as the 'root' user can result in broken permissions and conflicting behaviour with the system package manager. It is recommended to use a virtual environment instead: https://pip.pypa.io/warnings/venv\u001b[0m\u001b[33m\n",
      "\u001b[0m"
     ]
    }
   ],
   "source": [
    "!pip install stable_baselines3\n",
    "!pip install svgpath2mpl\n",
    "!pip install gym"
   ]
  },
  {
   "cell_type": "code",
   "execution_count": 2,
   "metadata": {},
   "outputs": [],
   "source": [
    "import gym\n",
    "import torch \n",
    "import torch.nn as nn\n",
    "import numpy as np\n",
    "from typing import Callable, Dict, List, Optional, Tuple, Type, Union\n",
    "from stable_baselines3 import PPO\n",
    "from stable_baselines3.common.torch_layers import BaseFeaturesExtractor\n",
    "from stable_baselines3.common.policies import ActorCriticPolicy\n",
    "from environments.shared_wildfire_gym import SharedWildFireGym"
   ]
  },
  {
   "cell_type": "code",
   "execution_count": 3,
   "metadata": {},
   "outputs": [],
   "source": [
    "class CustomCNN(BaseFeaturesExtractor):\n",
    "\n",
    "    def _get_conv_out(self):\n",
    "        o = self.conv(torch.zeros(1, 2, 100, 100))\n",
    "        return int(np.prod(o.size()))\n",
    "\n",
    "    def __init__(self, observation_space: gym.spaces.Box, features_dim: int = 4):\n",
    "        super(CustomCNN, self).__init__(observation_space, features_dim)\n",
    "\n",
    "        self.fc1  = nn.Sequential(\n",
    "            nn.Linear(5, 50),\n",
    "            nn.ReLU(),\n",
    "            nn.Linear(50, 50),\n",
    "            nn.ReLU(),\n",
    "            nn.Linear(50, 50),\n",
    "            nn.ReLU(),\n",
    "            nn.Linear(50, 50),\n",
    "            nn.ReLU(),\n",
    "            nn.Linear(50, 50),\n",
    "            nn.ReLU()\n",
    "        )\n",
    "\n",
    "        self.conv = nn.Sequential(\n",
    "            nn.Conv2d(2, 64, kernel_size=3),\n",
    "            nn.ReLU(),\n",
    "            nn.MaxPool2d(2, stride=2),\n",
    "            nn.Conv2d(64, 64, kernel_size=3),\n",
    "            nn.ReLU(),\n",
    "            nn.Conv2d(64, 64, kernel_size=3),\n",
    "            nn.ReLU(),\n",
    "            nn.MaxPool2d(2, stride=2),\n",
    "            nn.Flatten()\n",
    "        )\n",
    "    \n",
    "        conv_out_size = self._get_conv_out()\n",
    "\n",
    "        self.fc2 = nn.Sequential(\n",
    "        nn.Linear(conv_out_size, 500),\n",
    "        nn.ReLU(),\n",
    "        nn.Linear(500, 100),\n",
    "        nn.ReLU(),\n",
    "        )\n",
    "\n",
    "        self.flatten = nn.Sequential(nn.Linear(150, features_dim), nn.ReLU())\n",
    "\n",
    "    def forward(self, observations):\n",
    "        input = torch.cat(\n",
    "            [\n",
    "                observations['bank_angle'], \n",
    "                observations['rho'], observations['theta'], \n",
    "                observations['psi'], \n",
    "                observations['other_bank_angle']\n",
    "            ], dim=1)\n",
    "        fc1_out = self.fc1(input)\n",
    "        conv_out = torch.flatten(self.conv(observations['belief_map']),1)\n",
    "        fc2_out = self.fc2(conv_out)\n",
    "        return self.flatten(torch.cat((fc1_out, fc2_out), dim=1))\n",
    "\n",
    "\n",
    "\n",
    "policy_kwargs = dict(\n",
    "    features_extractor_class=CustomCNN,\n",
    "    features_extractor_kwargs=dict(features_dim=256),\n",
    ")\n"
   ]
  },
  {
   "cell_type": "code",
   "execution_count": 4,
   "metadata": {},
   "outputs": [
    {
     "ename": "AssertionError",
     "evalue": "",
     "output_type": "error",
     "traceback": [
      "\u001b[0;31m---------------------------------------------------------------------------\u001b[0m",
      "\u001b[0;31mAssertionError\u001b[0m                            Traceback (most recent call last)",
      "\u001b[1;32m/home/jeremy/Desktop/projects/notebooks/Distributed Wildfire Surveillance/stable_baseline.ipynb Cell 4\u001b[0m in \u001b[0;36m<cell line: 1>\u001b[0;34m()\u001b[0m\n\u001b[0;32m----> <a href='vscode-notebook-cell:/home/jeremy/Desktop/projects/notebooks/Distributed%20Wildfire%20Surveillance/stable_baseline.ipynb#W3sZmlsZQ%3D%3D?line=0'>1</a>\u001b[0m wildFireGym \u001b[39m=\u001b[39m SharedWildFireGym()\n\u001b[1;32m      <a href='vscode-notebook-cell:/home/jeremy/Desktop/projects/notebooks/Distributed%20Wildfire%20Surveillance/stable_baseline.ipynb#W3sZmlsZQ%3D%3D?line=1'>2</a>\u001b[0m model \u001b[39m=\u001b[39m PPO(\u001b[39m\"\u001b[39m\u001b[39mMultiInputPolicy\u001b[39m\u001b[39m\"\u001b[39m, wildFireGym, verbose\u001b[39m=\u001b[39m\u001b[39m3\u001b[39m, n_epochs\u001b[39m=\u001b[39m\u001b[39m5\u001b[39m, policy_kwargs\u001b[39m=\u001b[39mpolicy_kwargs)\n\u001b[1;32m      <a href='vscode-notebook-cell:/home/jeremy/Desktop/projects/notebooks/Distributed%20Wildfire%20Surveillance/stable_baseline.ipynb#W3sZmlsZQ%3D%3D?line=2'>3</a>\u001b[0m model\u001b[39m.\u001b[39mlearn(total_timesteps\u001b[39m=\u001b[39m\u001b[39m2000000\u001b[39m)\n",
      "File \u001b[0;32m/notebooks/environments/shared_wildfire_gym.py:20\u001b[0m, in \u001b[0;36mSharedWildFireGym.__init__\u001b[0;34m(self, _n_agents)\u001b[0m\n\u001b[1;32m     16\u001b[0m \u001b[39mself\u001b[39m\u001b[39m.\u001b[39m_n_agents \u001b[39m=\u001b[39m _n_agents\n\u001b[1;32m     18\u001b[0m \u001b[39mself\u001b[39m\u001b[39m.\u001b[39maction_space \u001b[39m=\u001b[39m  MultiAgentActionSpace([spaces\u001b[39m.\u001b[39mDiscrete(\u001b[39m5\u001b[39m) \u001b[39mfor\u001b[39;00m _ \u001b[39min\u001b[39;00m \u001b[39mrange\u001b[39m(\u001b[39mself\u001b[39m\u001b[39m.\u001b[39mn_agents)])\n\u001b[0;32m---> 20\u001b[0m \u001b[39mself\u001b[39m\u001b[39m.\u001b[39mobservation_space \u001b[39m=\u001b[39m MultiAgentObservationSpace(spaces\u001b[39m.\u001b[39;49mDict(\n\u001b[1;32m     21\u001b[0m     belief_map \u001b[39m=\u001b[39;49m spaces\u001b[39m.\u001b[39;49mBox(low\u001b[39m=\u001b[39;49m\u001b[39m0\u001b[39;49m, high\u001b[39m=\u001b[39;49m\u001b[39m1.0\u001b[39;49m, shape\u001b[39m=\u001b[39;49m(\u001b[39m2\u001b[39;49m, HEIGHT, WIDTH), dtype\u001b[39m=\u001b[39;49mnp\u001b[39m.\u001b[39;49mfloat32),\n\u001b[1;32m     22\u001b[0m     bank_angle \u001b[39m=\u001b[39;49m spaces\u001b[39m.\u001b[39;49mBox(low\u001b[39m=\u001b[39;49m\u001b[39m-\u001b[39;49m\u001b[39m0.872665\u001b[39;49m, high\u001b[39m=\u001b[39;49m\u001b[39m0.872665\u001b[39;49m, shape\u001b[39m=\u001b[39;49m(\u001b[39m1\u001b[39;49m,), dtype\u001b[39m=\u001b[39;49mnp\u001b[39m.\u001b[39;49mfloat32),\n\u001b[1;32m     23\u001b[0m     rho \u001b[39m=\u001b[39;49m spaces\u001b[39m.\u001b[39;49mBox(low\u001b[39m=\u001b[39;49m\u001b[39m0\u001b[39;49m, high\u001b[39m=\u001b[39;49m\u001b[39m141.421\u001b[39;49m, shape\u001b[39m=\u001b[39;49m(\u001b[39m1\u001b[39;49m,), dtype\u001b[39m=\u001b[39;49mnp\u001b[39m.\u001b[39;49mfloat32),\n\u001b[1;32m     24\u001b[0m     theta \u001b[39m=\u001b[39;49m spaces\u001b[39m.\u001b[39;49mBox(low\u001b[39m=\u001b[39;49m\u001b[39m-\u001b[39;49mnp\u001b[39m.\u001b[39;49mpi, high\u001b[39m=\u001b[39;49mnp\u001b[39m.\u001b[39;49mpi, shape\u001b[39m=\u001b[39;49m(\u001b[39m1\u001b[39;49m,), dtype\u001b[39m=\u001b[39;49mnp\u001b[39m.\u001b[39;49mfloat32),\n\u001b[1;32m     25\u001b[0m     psi \u001b[39m=\u001b[39;49m spaces\u001b[39m.\u001b[39;49mBox(low\u001b[39m=\u001b[39;49m\u001b[39m-\u001b[39;49mnp\u001b[39m.\u001b[39;49mpi, high\u001b[39m=\u001b[39;49mnp\u001b[39m.\u001b[39;49mpi, shape\u001b[39m=\u001b[39;49m(\u001b[39m1\u001b[39;49m,), dtype\u001b[39m=\u001b[39;49mnp\u001b[39m.\u001b[39;49mfloat32),\n\u001b[1;32m     26\u001b[0m     other_bank_angle \u001b[39m=\u001b[39;49m spaces\u001b[39m.\u001b[39;49mBox(low\u001b[39m=\u001b[39;49m\u001b[39m-\u001b[39;49m\u001b[39m0.872665\u001b[39;49m, high\u001b[39m=\u001b[39;49m\u001b[39m0.872665\u001b[39;49m, shape\u001b[39m=\u001b[39;49m(\u001b[39m1\u001b[39;49m,), dtype\u001b[39m=\u001b[39;49mnp\u001b[39m.\u001b[39;49mfloat32)\n\u001b[1;32m     27\u001b[0m ))\n\u001b[1;32m     29\u001b[0m \u001b[39mself\u001b[39m\u001b[39m.\u001b[39mfireEnv \u001b[39m=\u001b[39m ProbabilisticFireEnv(HEIGHT, WIDTH)\n\u001b[1;32m     30\u001b[0m \u001b[39mself\u001b[39m\u001b[39m.\u001b[39mdronesEnv \u001b[39m=\u001b[39m DronesEnv(HEIGHT, WIDTH, DT, DTI) \n",
      "File \u001b[0;32m/notebooks/environments/util/observation_space.py:7\u001b[0m, in \u001b[0;36mMultiAgentObservationSpace.__init__\u001b[0;34m(self, agents_observation_space)\u001b[0m\n\u001b[1;32m      5\u001b[0m \u001b[39mdef\u001b[39;00m \u001b[39m__init__\u001b[39m(\u001b[39mself\u001b[39m, agents_observation_space):\n\u001b[1;32m      6\u001b[0m     \u001b[39mfor\u001b[39;00m x \u001b[39min\u001b[39;00m agents_observation_space:\n\u001b[0;32m----> 7\u001b[0m         \u001b[39massert\u001b[39;00m \u001b[39misinstance\u001b[39m(x, gym\u001b[39m.\u001b[39mspaces\u001b[39m.\u001b[39mspace\u001b[39m.\u001b[39mSpace)\n\u001b[1;32m      9\u001b[0m     \u001b[39msuper\u001b[39m()\u001b[39m.\u001b[39m\u001b[39m__init__\u001b[39m(agents_observation_space)\n\u001b[1;32m     10\u001b[0m     \u001b[39mself\u001b[39m\u001b[39m.\u001b[39m_agents_observation_space \u001b[39m=\u001b[39m agents_observation_space\n",
      "\u001b[0;31mAssertionError\u001b[0m: "
     ]
    }
   ],
   "source": [
    "wildFireGym = SharedWildFireGym()\n",
    "model = PPO(\"CnnPolicy\", wildFireGym, verbose=3, n_epochs=5, policy_kwargs=policy_kwargs)\n",
    "model.learn(total_timesteps=2000000)\n",
    "model.save(\"policy\")"
   ]
  }
 ],
 "metadata": {
  "kernelspec": {
   "display_name": "Python 3 (ipykernel)",
   "language": "python",
   "name": "python3"
  },
  "language_info": {
   "codemirror_mode": {
    "name": "ipython",
    "version": 3
   },
   "file_extension": ".py",
   "mimetype": "text/x-python",
   "name": "python",
   "nbconvert_exporter": "python",
   "pygments_lexer": "ipython3",
   "version": "3.9.13"
  },
  "orig_nbformat": 4
 },
 "nbformat": 4,
 "nbformat_minor": 2
}
