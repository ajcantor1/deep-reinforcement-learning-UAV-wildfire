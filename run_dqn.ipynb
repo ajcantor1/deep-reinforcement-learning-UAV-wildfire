{
 "cells": [
  {
   "cell_type": "code",
   "execution_count": 8,
   "metadata": {},
   "outputs": [
    {
     "name": "stdout",
     "output_type": "stream",
     "text": [
      "Requirement already satisfied: svgpath2mpl in /home/jeremy/.local/lib/python3.8/site-packages (1.0.0)\n",
      "Requirement already satisfied: numpy in /home/jeremy/.local/lib/python3.8/site-packages (from svgpath2mpl) (1.19.5)\n",
      "Requirement already satisfied: matplotlib in /home/jeremy/.local/lib/python3.8/site-packages (from svgpath2mpl) (3.4.3)\n",
      "Requirement already satisfied: pillow>=6.2.0 in /home/jeremy/.local/lib/python3.8/site-packages (from matplotlib->svgpath2mpl) (9.0.1)\n",
      "Requirement already satisfied: cycler>=0.10 in /home/jeremy/.local/lib/python3.8/site-packages (from matplotlib->svgpath2mpl) (0.10.0)\n",
      "Requirement already satisfied: pyparsing>=2.2.1 in /home/jeremy/.local/lib/python3.8/site-packages (from matplotlib->svgpath2mpl) (2.4.7)\n",
      "Requirement already satisfied: kiwisolver>=1.0.1 in /home/jeremy/.local/lib/python3.8/site-packages (from matplotlib->svgpath2mpl) (1.3.2)\n",
      "Requirement already satisfied: python-dateutil>=2.7 in /usr/lib/python3/dist-packages (from matplotlib->svgpath2mpl) (2.7.3)\n",
      "Requirement already satisfied: six in /home/jeremy/.local/lib/python3.8/site-packages (from cycler>=0.10->matplotlib->svgpath2mpl) (1.15.0)\n"
     ]
    }
   ],
   "source": [
    "!pip install svgpath2mpl"
   ]
  },
  {
   "cell_type": "code",
   "execution_count": 9,
   "metadata": {},
   "outputs": [],
   "source": [
    "from collections import namedtuple, deque\n",
    "import numpy as np\n",
    "import torch\n",
    "import torch.nn as nn\n",
    "from torch.optim import Adamax\n",
    "import random\n",
    "import math \n",
    "from svgpath2mpl import parse_path\n",
    "import matplotlib.pyplot as plt\n",
    "import matplotlib\n",
    "from scipy.ndimage import rotate, shift\n",
    "from matplotlib.animation import FuncAnimation\n",
    "#from probabilistic_fire_env import ProbabilisticFireEnv\n",
    "#from drone_env import DronesEnv\n",
    "from env.wildfire_gym import WildFireGym\n",
    "from replay_memory import ReplayMemory, Transition\n",
    "from networks.dqn import DQN"
   ]
  },
  {
   "cell_type": "code",
   "execution_count": 10,
   "metadata": {},
   "outputs": [],
   "source": [
    "height = width = 100\n",
    "BATCH_SIZE = 128\n",
    "GAMMA = 0.99\n",
    "EPS_START = 0.9\n",
    "EPS_END = 0.1\n",
    "EPS_DECAY = 200000\n",
    "INIT_SIZE = 20000\n",
    "TARGET_UPDATE = 1000\n",
    "SAVE_POLICY = 100\n",
    "EPISODE_LENGTH = 250\n",
    "TRAIN_FREQ  = 10   # Number of samples to generate between trainings (Should be multiple of 10)\n",
    "PRINT_FREQ  = 100  # Frequency of printing (Should be a multiple of 10)"
   ]
  },
  {
   "cell_type": "code",
   "execution_count": 11,
   "metadata": {},
   "outputs": [],
   "source": [
    "device = torch.device(\"cuda\" if torch.cuda.is_available() else \"cpu\")\n",
    "n_actions = 2\n",
    "screen_height = screen_width = 100\n",
    "channels = 2\n",
    "policy_net = DQN(device, channels, screen_height, screen_width, n_actions).to(device)\n",
    "target_net = DQN(device, channels, screen_height, screen_width, n_actions).to(device)\n",
    "steps = 0\n",
    "policy_file_path = f'./policy_weights.pt'\n",
    "target_file_path = f'./target_weights.pt'\n",
    "\n",
    "#policy_net.load_state_dict(torch.load(policy_file_path))\n",
    "#target_net.load_state_dict(torch.load('target_weights.pt'))\n",
    "target_net.load_state_dict(policy_net.state_dict())\n",
    "memory = ReplayMemory(70000)\n",
    "#memory.load()\n",
    "policy_net.train()\n",
    "target_net.eval()\n",
    "update_counter = 0\n",
    "optimizer = Adamax(policy_net.parameters(), lr=0.0001)\n"
   ]
  },
  {
   "cell_type": "code",
   "execution_count": 12,
   "metadata": {},
   "outputs": [],
   "source": [
    "def select_action(belief_map, state_vector, steps):\n",
    "  sample = random.random()\n",
    "  eps_threshold = EPS_END + (EPS_START - EPS_END) * \\\n",
    "    math.exp(-1. * steps / EPS_DECAY)\n",
    "\n",
    "  if sample > eps_threshold:\n",
    "    with torch.no_grad():\n",
    "      output = policy_net(belief_map, state_vector).max(1)[1].view(1, 1)\n",
    "      return output\n",
    "  else:\n",
    "    return torch.tensor([[random.randrange(2)]], device=device, dtype=torch.long)"
   ]
  },
  {
   "cell_type": "code",
   "execution_count": 13,
   "metadata": {},
   "outputs": [],
   "source": [
    "def optimize_model():\n",
    "    \n",
    "    global update_counter\n",
    "    update_counter += 1\n",
    "    transitions = memory.sample(BATCH_SIZE)\n",
    "\n",
    "    batch = Transition(*zip(*transitions))\n",
    "\n",
    "    next_states = torch.cat(batch.next_state_vector)\n",
    "    next_belief_map = torch.cat(batch.next_belief_map)\n",
    "\n",
    "    belief_map_batch = torch.cat(batch.belief_map)\n",
    "    state_vector_batch = torch.cat(batch.state_vector)\n",
    "    \n",
    "    action_batch = torch.cat(batch.action)\n",
    "    reward_batch = torch.cat(batch.reward)\n",
    "\n",
    "    state_action_values = policy_net(belief_map_batch, state_vector_batch).gather(1, action_batch)\n",
    "    next_state_values = target_net(next_belief_map, next_states).max(1)[0].detach()\n",
    "\n",
    "    expected_state_action_values = (next_state_values * GAMMA) + reward_batch\n",
    "\n",
    "    # Compute Huber loss\n",
    "    criterion = nn.SmoothL1Loss().to(device)\n",
    "    loss = criterion(state_action_values, expected_state_action_values.unsqueeze(1))\n",
    "    # Optimize the model\n",
    "    optimizer.zero_grad()\n",
    "    loss.backward()\n",
    "    for param in policy_net.parameters():\n",
    "        param.grad.data.clamp_(-1, 1)\n",
    "    optimizer.step()\n",
    "\n",
    "    if update_counter % TARGET_UPDATE == 0:\n",
    "        policy_file_path = f'./policy_weights2.pt'\n",
    "        target_file_path = f'./target_weights2.pt'\n",
    "        torch.save(policy_net.state_dict(), policy_file_path)\n",
    "        torch.save(target_net.state_dict(), target_file_path)\n",
    "        print('update target')\n",
    "        target_net.load_state_dict(policy_net.state_dict())\n",
    "\n",
    "    return loss"
   ]
  },
  {
   "cell_type": "code",
   "execution_count": 14,
   "metadata": {},
   "outputs": [
    {
     "ename": "TypeError",
     "evalue": "step() missing 1 required positional argument: 'action_n'",
     "output_type": "error",
     "traceback": [
      "\u001b[0;31m---------------------------------------------------------------------------\u001b[0m",
      "\u001b[0;31mTypeError\u001b[0m                                 Traceback (most recent call last)",
      "\u001b[1;32m/home/jeremy/Desktop/projects/notebooks/Distributed Wildfire Surveillance/run_dqn.ipynb Cell 7\u001b[0m in \u001b[0;36m<module>\u001b[0;34m\u001b[0m\n\u001b[1;32m     <a href='vscode-notebook-cell:/home/jeremy/Desktop/projects/notebooks/Distributed%20Wildfire%20Surveillance/run_dqn.ipynb#W6sZmlsZQ%3D%3D?line=15'>16</a>\u001b[0m action1 \u001b[39m=\u001b[39m select_action(map_1, state_vector_1, steps)\n\u001b[1;32m     <a href='vscode-notebook-cell:/home/jeremy/Desktop/projects/notebooks/Distributed%20Wildfire%20Surveillance/run_dqn.ipynb#W6sZmlsZQ%3D%3D?line=16'>17</a>\u001b[0m action2 \u001b[39m=\u001b[39m select_action(map_2, state_vector_2, steps)\n\u001b[0;32m---> <a href='vscode-notebook-cell:/home/jeremy/Desktop/projects/notebooks/Distributed%20Wildfire%20Surveillance/run_dqn.ipynb#W6sZmlsZQ%3D%3D?line=18'>19</a>\u001b[0m next_observation, rewards, done, _ \u001b[39m=\u001b[39m wildFireGym\u001b[39m.\u001b[39;49mstep()\n\u001b[1;32m     <a href='vscode-notebook-cell:/home/jeremy/Desktop/projects/notebooks/Distributed%20Wildfire%20Surveillance/run_dqn.ipynb#W6sZmlsZQ%3D%3D?line=20'>21</a>\u001b[0m reward_1 \u001b[39m=\u001b[39m torch\u001b[39m.\u001b[39mtensor([rewards[\u001b[39m0\u001b[39m]], device\u001b[39m=\u001b[39mdevice)\n\u001b[1;32m     <a href='vscode-notebook-cell:/home/jeremy/Desktop/projects/notebooks/Distributed%20Wildfire%20Surveillance/run_dqn.ipynb#W6sZmlsZQ%3D%3D?line=21'>22</a>\u001b[0m reward_2 \u001b[39m=\u001b[39m torch\u001b[39m.\u001b[39mtensor([rewards[\u001b[39m1\u001b[39m]], device\u001b[39m=\u001b[39mdevice)  \n",
      "\u001b[0;31mTypeError\u001b[0m: step() missing 1 required positional argument: 'action_n'"
     ]
    }
   ],
   "source": [
    "loss = None\n",
    "i_episode = 1\n",
    "\n",
    "wildFireGym = WildFireGym()\n",
    "observation = wildFireGym.reset()\n",
    "steps = 0 \n",
    "\n",
    "map_1 = torch.tensor(observation[0]['belief_map'], device=device, dtype=torch.float)\n",
    "map_2 = torch.tensor(observation[1]['belief_map'], device=device, dtype=torch.float)\n",
    "\n",
    "state_vector_1 = torch.tensor(observation[0]['state_vector'], device=device, dtype=torch.float)\n",
    "state_vector_2 = torch.tensor(observation[1]['state_vector'], device=device, dtype=torch.float)\n",
    "\n",
    "while True:\n",
    "\n",
    "  action1 = select_action(map_1, state_vector_1, steps)\n",
    "  action2 = select_action(map_2, state_vector_2, steps)\n",
    "\n",
    "  next_observation, rewards, done, _ = wildFireGym.step([action1, action2])\n",
    "\n",
    "  reward_1 = torch.tensor([rewards[0]], device=device)\n",
    "  reward_2 = torch.tensor([rewards[1]], device=device)  \n",
    "\n",
    "  next_map_1 = torch.tensor(next_observation[0]['belief_map'], device=device, dtype=torch.float)\n",
    "  next_map_2 = torch.tensor(next_observation[1]['belief_map'], device=device, dtype=torch.float)\n",
    "\n",
    "  next_state_vector_1 = torch.tensor(next_observation[0]['state_vector'], device=device, dtype=torch.float)\n",
    "  next_state_vector_2 = torch.tensor(next_observation[1]['state_vector'], device=device, dtype=torch.float)\n",
    "\n",
    "  memory.push(map_1, state_vector_1, action1, next_map_1, next_state_vector_1, reward_1)\n",
    "  memory.push(map_2, state_vector_2, action2, next_map_2, next_state_vector_2, reward_2)\n",
    "\n",
    "  observation = next_observation\n",
    "\n",
    "  map_1 = next_map_1\n",
    "  map_2 = next_map_2\n",
    "\n",
    "  state_vector_1 = next_state_vector_1\n",
    "  state_vector_2 = next_state_vector_2\n",
    "\n",
    "  if done:\n",
    "    print(f'episode {i_episode} completed')\n",
    "    i_episode += 1\n",
    "    observation = wildFireGym.reset()\n",
    "    steps = 0 \n",
    "\n",
    "    map_1 = torch.tensor(observation[0]['belief_map'], device=device, dtype=torch.float)\n",
    "    map_2 = torch.tensor(observation[1]['belief_map'], device=device, dtype=torch.float)\n",
    "\n",
    "    state_vector_1 = torch.tensor(observation[0]['state_vector'], device=device, dtype=torch.float)\n",
    "    state_vector_2 = torch.tensor(observation[1]['state_vector'], device=device, dtype=torch.float)\n",
    "\n",
    "  if steps>=INIT_SIZE:\n",
    "    loss = optimize_model()"
   ]
  }
 ],
 "metadata": {
  "kernelspec": {
   "display_name": "Python 3",
   "language": "python",
   "name": "python3"
  },
  "language_info": {
   "codemirror_mode": {
    "name": "ipython",
    "version": 3
   },
   "file_extension": ".py",
   "mimetype": "text/x-python",
   "name": "python",
   "nbconvert_exporter": "python",
   "pygments_lexer": "ipython3",
   "version": "3.8.10"
  },
  "orig_nbformat": 4,
  "vscode": {
   "interpreter": {
    "hash": "916dbcbb3f70747c44a77c7bcd40155683ae19c65e1c03b4aa3499c5328201f1"
   }
  }
 },
 "nbformat": 4,
 "nbformat_minor": 2
}
