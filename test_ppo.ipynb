{
 "cells": [
  {
   "cell_type": "code",
   "execution_count": 11,
   "metadata": {},
   "outputs": [
    {
     "name": "stdout",
     "output_type": "stream",
     "text": [
      "Requirement already satisfied: svgpath2mpl in /usr/local/lib/python3.9/dist-packages (1.0.0)\n",
      "Requirement already satisfied: matplotlib in /usr/local/lib/python3.9/dist-packages (from svgpath2mpl) (3.5.2)\n",
      "Requirement already satisfied: numpy in /usr/local/lib/python3.9/dist-packages (from svgpath2mpl) (1.23.1)\n",
      "Requirement already satisfied: cycler>=0.10 in /usr/local/lib/python3.9/dist-packages (from matplotlib->svgpath2mpl) (0.11.0)\n",
      "Requirement already satisfied: python-dateutil>=2.7 in /usr/local/lib/python3.9/dist-packages (from matplotlib->svgpath2mpl) (2.8.2)\n",
      "Requirement already satisfied: kiwisolver>=1.0.1 in /usr/local/lib/python3.9/dist-packages (from matplotlib->svgpath2mpl) (1.4.3)\n",
      "Requirement already satisfied: pillow>=6.2.0 in /usr/local/lib/python3.9/dist-packages (from matplotlib->svgpath2mpl) (9.2.0)\n",
      "Requirement already satisfied: packaging>=20.0 in /usr/local/lib/python3.9/dist-packages (from matplotlib->svgpath2mpl) (21.3)\n",
      "Requirement already satisfied: fonttools>=4.22.0 in /usr/local/lib/python3.9/dist-packages (from matplotlib->svgpath2mpl) (4.34.4)\n",
      "Requirement already satisfied: pyparsing>=2.2.1 in /usr/local/lib/python3.9/dist-packages (from matplotlib->svgpath2mpl) (3.0.9)\n",
      "Requirement already satisfied: six>=1.5 in /usr/lib/python3/dist-packages (from python-dateutil>=2.7->matplotlib->svgpath2mpl) (1.14.0)\n",
      "\u001b[33mWARNING: Running pip as the 'root' user can result in broken permissions and conflicting behaviour with the system package manager. It is recommended to use a virtual environment instead: https://pip.pypa.io/warnings/venv\u001b[0m\u001b[33m\n",
      "\u001b[0m"
     ]
    }
   ],
   "source": [
    "!pip install svgpath2mpl"
   ]
  },
  {
   "cell_type": "code",
   "execution_count": 12,
   "metadata": {},
   "outputs": [],
   "source": [
    "from collections import namedtuple\n",
    "import numpy as np\n",
    "import torch\n",
    "import torch.nn as nn\n",
    "import imageio\n",
    "from svgpath2mpl import parse_path\n",
    "import matplotlib.pyplot as plt\n",
    "import matplotlib\n",
    "from scipy.ndimage import rotate, shift\n",
    "from matplotlib.animation import FuncAnimation\n",
    "from probabilistic_fire_env import ProbabilisticFireEnv\n",
    "from drone_env import DronesEnv\n",
    "from networks.ppo_net import PPONet\n",
    "from torch.distributions import MultivariateNormal, Categorical"
   ]
  },
  {
   "cell_type": "code",
   "execution_count": 13,
   "metadata": {},
   "outputs": [],
   "source": [
    "DT          = 0.5  # Time between wildfire updates            \n",
    "DTI         = 0.1  # Time between aircraft decisions\n",
    "n_actions = 2\n",
    "height = width = 100\n",
    "channels = 2\n",
    "EPISODES_PER_BATCH = 1\n",
    "TRAIN_FREQ  = 10\n",
    "SAVE_FREQ = 10\n",
    "GAMMA = 0.95\n",
    "CLIP  = 0.2\n",
    "BATCH_SIZE = 64"
   ]
  },
  {
   "cell_type": "code",
   "execution_count": 14,
   "metadata": {},
   "outputs": [
    {
     "data": {
      "text/plain": [
       "<All keys matched successfully>"
      ]
     },
     "execution_count": 14,
     "metadata": {},
     "output_type": "execute_result"
    }
   ],
   "source": [
    "device = torch.device(\"cuda\" if torch.cuda.is_available() else \"cpu\")\n",
    "model = PPONet(device,  channels, height, width, n_actions).to(device)\n",
    "model.load_state_dict(torch.load('ppo_weights.pt'))"
   ]
  },
  {
   "cell_type": "code",
   "execution_count": 15,
   "metadata": {},
   "outputs": [
    {
     "name": "stderr",
     "output_type": "stream",
     "text": [
      "/tmp/ipykernel_493/2528430081.py:53: RuntimeWarning: More than 20 figures have been opened. Figures created through the pyplot interface (`matplotlib.pyplot.figure`) are retained until explicitly closed and may consume too much memory. (To control this warning, see the rcParam `figure.max_open_warning`).\n",
      "  fig, ax = plt.subplots(1, 5, figsize=(28, 4))\n"
     ]
    }
   ],
   "source": [
    "fireEnv = ProbabilisticFireEnv(height, width)\n",
    "dronesEnv = DronesEnv(height, width, DT, DTI) \n",
    "loss = None\n",
    "i_episode = 1\n",
    "images = []\n",
    "observation = fireEnv.reset()\n",
    "dronesEnv.reset(observation)\n",
    "\n",
    "while True:\n",
    "\n",
    "  observation = fireEnv.step()\n",
    "\n",
    "  state_vector_1 = dronesEnv.drones[0].state\n",
    "  map_1 = dronesEnv.drones[0].observation\n",
    "  state_vector_1 = torch.tensor(state_vector_1, device=device, dtype=torch.float)\n",
    "  map_1 = torch.tensor(map_1, device=device, dtype=torch.float)\n",
    "\n",
    "  state_vector_2 = dronesEnv.drones[1].state\n",
    "  map_2 = dronesEnv.drones[1].observation\n",
    "  state_vector_2 = torch.tensor(state_vector_2, device=device, dtype=torch.float)\n",
    "  map_2 = torch.tensor(map_2, device=device, dtype=torch.float)\n",
    "\n",
    "  for i in range(int(DT/DTI)):\n",
    "\n",
    "    policy1, _ = model(map_1, state_vector_1)\n",
    "    policy2, _ = model(map_2, state_vector_2)\n",
    "       \n",
    "\n",
    "    dronesEnv.step([ torch.argmax(policy1).item(), torch.argmax(policy2).item()], observation)\n",
    "\n",
    "    next_state_vector_1 = dronesEnv.drones[0].state\n",
    "    next_map_1 = dronesEnv.drones[0].observation\n",
    "\n",
    "    next_state_vector_1 = torch.tensor(next_state_vector_1, device=device, dtype=torch.float)\n",
    "    next_map_1 = torch.tensor(next_map_1, device=device, dtype=torch.float)\n",
    "\n",
    "    next_state_vector_2 = dronesEnv.drones[1].state\n",
    "    next_map_2 = dronesEnv.drones[1].observation\n",
    "\n",
    "    next_state_vector_2 = torch.tensor(next_state_vector_2, device=device, dtype=torch.float)\n",
    "    next_map_2 = torch.tensor(next_map_2, device=device, dtype=torch.float)\n",
    "\n",
    "    state_vector_1 = next_state_vector_1\n",
    "    state_vector_2 = next_state_vector_2\n",
    "\n",
    "    map_1 = next_map_1\n",
    "    map_2 = next_map_2\n",
    "\n",
    "  if not fireEnv.fire_in_range(6):\n",
    "\n",
    "    break\n",
    "\n",
    "  fig, ax = plt.subplots(1, 5, figsize=(28, 4))\n",
    "  dronesEnv.plot_drones(fig, ax[0])\n",
    "  dronesEnv.plot_belief_map(fig, ax[1])\n",
    "  dronesEnv.plot_time_elapsed(fig, ax[2])\n",
    "  dronesEnv.plot_trajectory(fig, ax[3])\n",
    "  fireEnv.plot_heat_map(fig, ax[4])\n",
    "  fig.canvas.draw() \n",
    "  image = np.frombuffer(fig.canvas.tostring_rgb(), dtype='uint8')\n",
    "  image  = image.reshape(fig.canvas.get_width_height()[::-1] + (3,))\n",
    "  images.append(image)\n",
    "\n",
    "kwargs_write = {'fps':5.0, 'quantizer':'nq'}\n",
    "imageio.mimsave('./ppo_example.gif', images, fps=5)\n"
   ]
  }
 ],
 "metadata": {
  "kernelspec": {
   "display_name": "Python 3 (ipykernel)",
   "language": "python",
   "name": "python3"
  },
  "language_info": {
   "codemirror_mode": {
    "name": "ipython",
    "version": 3
   },
   "file_extension": ".py",
   "mimetype": "text/x-python",
   "name": "python",
   "nbconvert_exporter": "python",
   "pygments_lexer": "ipython3",
   "version": "3.9.13"
  },
  "orig_nbformat": 4
 },
 "nbformat": 4,
 "nbformat_minor": 2
}
